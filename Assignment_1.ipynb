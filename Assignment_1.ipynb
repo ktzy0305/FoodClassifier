{
 "cells": [
  {
   "cell_type": "markdown",
   "metadata": {},
   "source": [
    "<table class=\"table table-bordered\">\n",
    "    <tr>\n",
    "        <th style=\"text-align:center; width:25%\"><img src='https://www.np.edu.sg/PublishingImages/Pages/default/odp/ICT.jpg' style=\"width: 250px; height: 125px; \"></th>\n",
    "        <th style=\"text-align:center;\"><h1>Deep Learning</h1><h2>Assignment (Problem 1) - Food Classifying Model (Individual)</h2><h3>AY2019/20 Semester</h3></th>\n",
    "    </tr>\n",
    "</table>"
   ]
  },
  {
   "cell_type": "code",
   "execution_count": 2,
   "metadata": {},
   "outputs": [
    {
     "name": "stderr",
     "output_type": "stream",
     "text": [
      "Using TensorFlow backend.\n"
     ]
    }
   ],
   "source": [
    "# Import the Required Packages\n",
    "import keras\n",
    "import os\n",
    "from keras import layers, models, optimizers, regularizers\n",
    "from keras.preprocessing.image import ImageDataGenerator\n",
    "import matplotlib.pyplot as plt"
   ]
  },
  {
   "cell_type": "markdown",
   "metadata": {},
   "source": [
    "## Step 1: Data Loading"
   ]
  },
  {
   "cell_type": "code",
   "execution_count": 3,
   "metadata": {},
   "outputs": [
    {
     "name": "stdout",
     "output_type": "stream",
     "text": [
      "Found 7500 images belonging to 10 classes.\n",
      "Found 2000 images belonging to 10 classes.\n",
      "Found 500 images belonging to 10 classes.\n"
     ]
    }
   ],
   "source": [
    "base_dir = os.getcwd()\n",
    "train_dir = os.path.join(base_dir, \"train\")\n",
    "validation_dir = os.path.join(base_dir, \"validation\")\n",
    "test_dir = os.path.join(base_dir, \"test\")\n",
    "img_size = 150\n",
    "\n",
    "train_datagen = ImageDataGenerator(\n",
    "    rescale=1./255,\n",
    "    rotation_range=40,\n",
    "    width_shift_range=0.2,\n",
    "    height_shift_range=0.2,\n",
    "    shear_range=0.2,\n",
    "    zoom_range=0.2,\n",
    "    horizontal_flip=True,\n",
    "    fill_mode='nearest')\n",
    "\n",
    "validation_test_datagen = ImageDataGenerator(rescale=1./255)\n",
    "\n",
    "train_generator = train_datagen.flow_from_directory(\n",
    "    train_dir,\n",
    "    target_size=(img_size, img_size),\n",
    "    batch_size=20,\n",
    "    class_mode='categorical')\n",
    "\n",
    "validation_generator = validation_test_datagen.flow_from_directory(\n",
    "    validation_dir,\n",
    "    target_size=(img_size, img_size),\n",
    "    batch_size=20,\n",
    "    class_mode='categorical')\n",
    "\n",
    "test_generator = validation_test_datagen.flow_from_directory(\n",
    "    test_dir,\n",
    "    target_size=(img_size, img_size),\n",
    "    batch_size=20,\n",
    "    class_mode='categorical')"
   ]
  },
  {
   "cell_type": "code",
   "execution_count": 4,
   "metadata": {},
   "outputs": [
    {
     "name": "stdout",
     "output_type": "stream",
     "text": [
      "data batch shape: (20, 150, 150, 3)\n",
      "labels batch shape: (20, 10)\n"
     ]
    }
   ],
   "source": [
    "# Remove before submission\n",
    "for data_batch, labels_batch in train_generator:\n",
    "    print('data batch shape:', data_batch.shape)\n",
    "    print('labels batch shape:', labels_batch.shape)\n",
    "    break"
   ]
  },
  {
   "cell_type": "markdown",
   "metadata": {},
   "source": [
    "## Step 2:  Develop the Image Classification Models"
   ]
  },
  {
   "cell_type": "markdown",
   "metadata": {},
   "source": [
    "### Model #1"
   ]
  },
  {
   "cell_type": "markdown",
   "metadata": {},
   "source": [
    "#### Baseline Model"
   ]
  },
  {
   "cell_type": "code",
   "execution_count": 4,
   "metadata": {},
   "outputs": [
    {
     "name": "stdout",
     "output_type": "stream",
     "text": [
      "WARNING:tensorflow:From D:\\Anaconda3\\lib\\site-packages\\keras\\backend\\tensorflow_backend.py:74: The name tf.get_default_graph is deprecated. Please use tf.compat.v1.get_default_graph instead.\n",
      "\n",
      "WARNING:tensorflow:From D:\\Anaconda3\\lib\\site-packages\\keras\\backend\\tensorflow_backend.py:517: The name tf.placeholder is deprecated. Please use tf.compat.v1.placeholder instead.\n",
      "\n",
      "WARNING:tensorflow:From D:\\Anaconda3\\lib\\site-packages\\keras\\backend\\tensorflow_backend.py:4138: The name tf.random_uniform is deprecated. Please use tf.random.uniform instead.\n",
      "\n",
      "WARNING:tensorflow:From D:\\Anaconda3\\lib\\site-packages\\keras\\backend\\tensorflow_backend.py:3976: The name tf.nn.max_pool is deprecated. Please use tf.nn.max_pool2d instead.\n",
      "\n",
      "WARNING:tensorflow:From D:\\Anaconda3\\lib\\site-packages\\keras\\optimizers.py:790: The name tf.train.Optimizer is deprecated. Please use tf.compat.v1.train.Optimizer instead.\n",
      "\n",
      "WARNING:tensorflow:From D:\\Anaconda3\\lib\\site-packages\\keras\\backend\\tensorflow_backend.py:3295: The name tf.log is deprecated. Please use tf.math.log instead.\n",
      "\n",
      "_________________________________________________________________\n",
      "Layer (type)                 Output Shape              Param #   \n",
      "=================================================================\n",
      "conv2d_1 (Conv2D)            (None, 148, 148, 16)      448       \n",
      "_________________________________________________________________\n",
      "max_pooling2d_1 (MaxPooling2 (None, 74, 74, 16)        0         \n",
      "_________________________________________________________________\n",
      "conv2d_2 (Conv2D)            (None, 72, 72, 16)        2320      \n",
      "_________________________________________________________________\n",
      "max_pooling2d_2 (MaxPooling2 (None, 36, 36, 16)        0         \n",
      "_________________________________________________________________\n",
      "conv2d_3 (Conv2D)            (None, 34, 34, 32)        4640      \n",
      "_________________________________________________________________\n",
      "max_pooling2d_3 (MaxPooling2 (None, 17, 17, 32)        0         \n",
      "_________________________________________________________________\n",
      "conv2d_4 (Conv2D)            (None, 15, 15, 32)        9248      \n",
      "_________________________________________________________________\n",
      "max_pooling2d_4 (MaxPooling2 (None, 7, 7, 32)          0         \n",
      "_________________________________________________________________\n",
      "conv2d_5 (Conv2D)            (None, 5, 5, 32)          9248      \n",
      "_________________________________________________________________\n",
      "max_pooling2d_5 (MaxPooling2 (None, 2, 2, 32)          0         \n",
      "_________________________________________________________________\n",
      "flatten_1 (Flatten)          (None, 128)               0         \n",
      "_________________________________________________________________\n",
      "dense_1 (Dense)              (None, 32)                4128      \n",
      "_________________________________________________________________\n",
      "dense_2 (Dense)              (None, 10)                330       \n",
      "=================================================================\n",
      "Total params: 30,362\n",
      "Trainable params: 30,362\n",
      "Non-trainable params: 0\n",
      "_________________________________________________________________\n"
     ]
    }
   ],
   "source": [
    "model = models.Sequential()\n",
    "model.add(layers.Conv2D(16, (3, 3), activation='relu',\n",
    "                        input_shape=(img_size, img_size, 3)))\n",
    "model.add(layers.MaxPooling2D((2, 2)))\n",
    "model.add(layers.Conv2D(16, (3, 3), activation='relu'))\n",
    "model.add(layers.MaxPooling2D((2, 2)))\n",
    "model.add(layers.Conv2D(32, (3, 3), activation='relu'))\n",
    "model.add(layers.MaxPooling2D((2, 2)))\n",
    "model.add(layers.Conv2D(32, (3, 3), activation='relu'))\n",
    "model.add(layers.MaxPooling2D((2, 2)))\n",
    "model.add(layers.Conv2D(32, (3, 3), activation='relu'))\n",
    "model.add(layers.MaxPooling2D((2, 2)))\n",
    "model.add(layers.Flatten())\n",
    "model.add(layers.Dense(32, activation='relu'))\n",
    "model.add(layers.Dense(10, activation='softmax'))\n",
    "\n",
    "model.compile(loss='categorical_crossentropy',\n",
    "              optimizer='rmsprop',\n",
    "              metrics=['acc'])\n",
    "\n",
    "model.summary()"
   ]
  },
  {
   "cell_type": "code",
   "execution_count": 5,
   "metadata": {
    "scrolled": true
   },
   "outputs": [
    {
     "name": "stdout",
     "output_type": "stream",
     "text": [
      "WARNING:tensorflow:From D:\\Anaconda3\\lib\\site-packages\\tensorflow\\python\\ops\\math_grad.py:1250: add_dispatch_support.<locals>.wrapper (from tensorflow.python.ops.array_ops) is deprecated and will be removed in a future version.\n",
      "Instructions for updating:\n",
      "Use tf.where in 2.0, which has the same broadcast rule as np.where\n",
      "WARNING:tensorflow:From D:\\Anaconda3\\lib\\site-packages\\keras\\backend\\tensorflow_backend.py:986: The name tf.assign_add is deprecated. Please use tf.compat.v1.assign_add instead.\n",
      "\n",
      "Epoch 1/20\n",
      "375/375 [==============================] - 72s 191ms/step - loss: 2.1507 - acc: 0.1887 - val_loss: 1.9588 - val_acc: 0.2730\n",
      "Epoch 2/20\n",
      "375/375 [==============================] - 67s 178ms/step - loss: 2.0158 - acc: 0.2645 - val_loss: 2.0244 - val_acc: 0.2630\n",
      "Epoch 3/20\n",
      "375/375 [==============================] - 69s 185ms/step - loss: 1.9215 - acc: 0.3035 - val_loss: 1.9450 - val_acc: 0.2900\n",
      "Epoch 4/20\n",
      "375/375 [==============================] - 68s 181ms/step - loss: 1.8391 - acc: 0.3433 - val_loss: 1.7606 - val_acc: 0.3500\n",
      "Epoch 5/20\n",
      "375/375 [==============================] - 68s 181ms/step - loss: 1.7828 - acc: 0.3675 - val_loss: 1.5619 - val_acc: 0.4560\n",
      "Epoch 6/20\n",
      "375/375 [==============================] - 70s 186ms/step - loss: 1.7408 - acc: 0.3879 - val_loss: 1.6089 - val_acc: 0.4300\n",
      "Epoch 7/20\n",
      "375/375 [==============================] - 67s 179ms/step - loss: 1.6931 - acc: 0.4008 - val_loss: 1.6678 - val_acc: 0.4055\n",
      "Epoch 8/20\n",
      "375/375 [==============================] - 69s 184ms/step - loss: 1.6532 - acc: 0.4161 - val_loss: 1.5972 - val_acc: 0.4270\n",
      "Epoch 9/20\n",
      "375/375 [==============================] - 69s 185ms/step - loss: 1.6123 - acc: 0.4356 - val_loss: 1.4104 - val_acc: 0.5180\n",
      "Epoch 10/20\n",
      "375/375 [==============================] - 68s 182ms/step - loss: 1.5719 - acc: 0.4516 - val_loss: 1.3753 - val_acc: 0.5120\n",
      "Epoch 11/20\n",
      "375/375 [==============================] - 69s 183ms/step - loss: 1.5348 - acc: 0.4704 - val_loss: 1.3530 - val_acc: 0.5365\n",
      "Epoch 12/20\n",
      "375/375 [==============================] - 68s 182ms/step - loss: 1.5145 - acc: 0.4767 - val_loss: 1.3480 - val_acc: 0.5240\n",
      "Epoch 13/20\n",
      "375/375 [==============================] - 68s 180ms/step - loss: 1.4728 - acc: 0.4977 - val_loss: 1.3860 - val_acc: 0.5210\n",
      "Epoch 14/20\n",
      "375/375 [==============================] - 67s 180ms/step - loss: 1.4408 - acc: 0.5055 - val_loss: 1.4187 - val_acc: 0.5020\n",
      "Epoch 15/20\n",
      "375/375 [==============================] - 69s 184ms/step - loss: 1.4182 - acc: 0.5145 - val_loss: 1.2697 - val_acc: 0.5670\n",
      "Epoch 16/20\n",
      "375/375 [==============================] - 69s 184ms/step - loss: 1.4084 - acc: 0.5149 - val_loss: 1.2647 - val_acc: 0.5775\n",
      "Epoch 17/20\n",
      "375/375 [==============================] - 70s 186ms/step - loss: 1.3903 - acc: 0.5223 - val_loss: 1.2141 - val_acc: 0.5770\n",
      "Epoch 18/20\n",
      "375/375 [==============================] - 70s 186ms/step - loss: 1.3863 - acc: 0.5221 - val_loss: 1.2243 - val_acc: 0.5745\n",
      "Epoch 19/20\n",
      "375/375 [==============================] - 69s 183ms/step - loss: 1.3583 - acc: 0.5324 - val_loss: 1.2137 - val_acc: 0.5905\n",
      "Epoch 20/20\n",
      "375/375 [==============================] - 69s 184ms/step - loss: 1.3419 - acc: 0.5449 - val_loss: 1.2321 - val_acc: 0.5775\n"
     ]
    }
   ],
   "source": [
    "history = model.fit_generator(train_generator,\n",
    "                              steps_per_epoch=375,\n",
    "                              epochs=20,\n",
    "                              validation_data=validation_generator,\n",
    "                              validation_steps=100)"
   ]
  },
  {
   "cell_type": "code",
   "execution_count": 6,
   "metadata": {},
   "outputs": [
    {
     "data": {
      "image/png": "[encoded data removed]",
      "text/plain": [
       "<Figure size 432x288 with 1 Axes>"
      ]
     },
     "metadata": {
      "needs_background": "light"
     },
     "output_type": "display_data"
    },
    {
     "data": {
      "image/png": "[encoded data removed]",
      "text/plain": [
       "<Figure size 432x288 with 1 Axes>"
      ]
     },
     "metadata": {
      "needs_background": "light"
     },
     "output_type": "display_data"
    }
   ],
   "source": [
    "%matplotlib inline\n",
    "\n",
    "acc = history.history['acc']\n",
    "val_acc = history.history['val_acc']\n",
    "loss = history.history['loss']\n",
    "val_loss = history.history['val_loss']\n",
    "\n",
    "epochs = range(len(acc))\n",
    "\n",
    "plt.plot(epochs, acc, 'bo', label='Training acc')\n",
    "plt.plot(epochs, val_acc, 'b', label='Validation acc')\n",
    "plt.title('Training and validation accuracy')\n",
    "plt.legend()\n",
    "\n",
    "plt.figure()\n",
    "\n",
    "plt.plot(epochs, loss, 'bo', label='Training loss')\n",
    "plt.plot(epochs, val_loss, 'b', label='Validation loss')\n",
    "plt.title('Training and validation loss')\n",
    "plt.legend()\n",
    "\n",
    "plt.show()"
   ]
  },
  {
   "cell_type": "markdown",
   "metadata": {},
   "source": [
    "#### Overfitted Model"
   ]
  },
  {
   "cell_type": "code",
   "execution_count": 5,
   "metadata": {},
   "outputs": [
    {
     "name": "stdout",
     "output_type": "stream",
     "text": [
      "WARNING:tensorflow:From D:\\Anaconda3\\lib\\site-packages\\keras\\backend\\tensorflow_backend.py:74: The name tf.get_default_graph is deprecated. Please use tf.compat.v1.get_default_graph instead.\n",
      "\n",
      "WARNING:tensorflow:From D:\\Anaconda3\\lib\\site-packages\\keras\\backend\\tensorflow_backend.py:517: The name tf.placeholder is deprecated. Please use tf.compat.v1.placeholder instead.\n",
      "\n",
      "WARNING:tensorflow:From D:\\Anaconda3\\lib\\site-packages\\keras\\backend\\tensorflow_backend.py:4138: The name tf.random_uniform is deprecated. Please use tf.random.uniform instead.\n",
      "\n",
      "WARNING:tensorflow:From D:\\Anaconda3\\lib\\site-packages\\keras\\backend\\tensorflow_backend.py:3976: The name tf.nn.max_pool is deprecated. Please use tf.nn.max_pool2d instead.\n",
      "\n",
      "WARNING:tensorflow:From D:\\Anaconda3\\lib\\site-packages\\keras\\optimizers.py:790: The name tf.train.Optimizer is deprecated. Please use tf.compat.v1.train.Optimizer instead.\n",
      "\n",
      "WARNING:tensorflow:From D:\\Anaconda3\\lib\\site-packages\\keras\\backend\\tensorflow_backend.py:3295: The name tf.log is deprecated. Please use tf.math.log instead.\n",
      "\n",
      "_________________________________________________________________\n",
      "Layer (type)                 Output Shape              Param #   \n",
      "=================================================================\n",
      "conv2d_1 (Conv2D)            (None, 148, 148, 32)      896       \n",
      "_________________________________________________________________\n",
      "max_pooling2d_1 (MaxPooling2 (None, 74, 74, 32)        0         \n",
      "_________________________________________________________________\n",
      "conv2d_2 (Conv2D)            (None, 72, 72, 32)        9248      \n",
      "_________________________________________________________________\n",
      "max_pooling2d_2 (MaxPooling2 (None, 36, 36, 32)        0         \n",
      "_________________________________________________________________\n",
      "conv2d_3 (Conv2D)            (None, 34, 34, 64)        18496     \n",
      "_________________________________________________________________\n",
      "max_pooling2d_3 (MaxPooling2 (None, 17, 17, 64)        0         \n",
      "_________________________________________________________________\n",
      "conv2d_4 (Conv2D)            (None, 15, 15, 128)       73856     \n",
      "_________________________________________________________________\n",
      "max_pooling2d_4 (MaxPooling2 (None, 7, 7, 128)         0         \n",
      "_________________________________________________________________\n",
      "conv2d_5 (Conv2D)            (None, 5, 5, 128)         147584    \n",
      "_________________________________________________________________\n",
      "max_pooling2d_5 (MaxPooling2 (None, 2, 2, 128)         0         \n",
      "_________________________________________________________________\n",
      "flatten_1 (Flatten)          (None, 512)               0         \n",
      "_________________________________________________________________\n",
      "dense_1 (Dense)              (None, 128)               65664     \n",
      "_________________________________________________________________\n",
      "dense_2 (Dense)              (None, 10)                1290      \n",
      "=================================================================\n",
      "Total params: 317,034\n",
      "Trainable params: 317,034\n",
      "Non-trainable params: 0\n",
      "_________________________________________________________________\n"
     ]
    }
   ],
   "source": [
    "# Build the Model\n",
    "model = models.Sequential()\n",
    "model.add(layers.Conv2D(32, (3, 3), activation='relu',\n",
    "                        input_shape=(img_size, img_size, 3)))\n",
    "model.add(layers.MaxPooling2D((2, 2)))\n",
    "model.add(layers.Conv2D(32, (3, 3), activation='relu'))\n",
    "model.add(layers.MaxPooling2D((2, 2)))\n",
    "model.add(layers.Conv2D(64, (3, 3), activation='relu'))\n",
    "model.add(layers.MaxPooling2D((2, 2)))\n",
    "model.add(layers.Conv2D(128, (3, 3), activation='relu'))\n",
    "model.add(layers.MaxPooling2D((2, 2)))\n",
    "model.add(layers.Conv2D(128, (3, 3), activation='relu'))\n",
    "model.add(layers.MaxPooling2D((2, 2)))\n",
    "model.add(layers.Flatten())\n",
    "model.add(layers.Dense(128, activation='relu'))\n",
    "model.add(layers.Dense(10, activation='softmax'))\n",
    "\n",
    "model.compile(loss='categorical_crossentropy',\n",
    "              optimizer='rmsprop',\n",
    "              metrics=['acc'])\n",
    "\n",
    "model.summary()"
   ]
  },
  {
   "cell_type": "code",
   "execution_count": 6,
   "metadata": {},
   "outputs": [
    {
     "name": "stdout",
     "output_type": "stream",
     "text": [
      "WARNING:tensorflow:From D:\\Anaconda3\\lib\\site-packages\\tensorflow\\python\\ops\\math_grad.py:1250: add_dispatch_support.<locals>.wrapper (from tensorflow.python.ops.array_ops) is deprecated and will be removed in a future version.\n",
      "Instructions for updating:\n",
      "Use tf.where in 2.0, which has the same broadcast rule as np.where\n",
      "WARNING:tensorflow:From D:\\Anaconda3\\lib\\site-packages\\keras\\backend\\tensorflow_backend.py:986: The name tf.assign_add is deprecated. Please use tf.compat.v1.assign_add instead.\n",
      "\n",
      "Epoch 1/20\n",
      "375/375 [==============================] - 126s 337ms/step - loss: 2.1214 - acc: 0.2092 - val_loss: 1.8685 - val_acc: 0.3090\n",
      "Epoch 2/20\n",
      "375/375 [==============================] - 68s 181ms/step - loss: 1.9069 - acc: 0.3121 - val_loss: 1.8145 - val_acc: 0.3400\n",
      "Epoch 3/20\n",
      "375/375 [==============================] - 69s 184ms/step - loss: 1.7918 - acc: 0.3723 - val_loss: 1.5729 - val_acc: 0.4530\n",
      "Epoch 4/20\n",
      "375/375 [==============================] - 70s 186ms/step - loss: 1.6914 - acc: 0.4235 - val_loss: 1.5597 - val_acc: 0.4595\n",
      "Epoch 5/20\n",
      "375/375 [==============================] - 71s 189ms/step - loss: 1.6219 - acc: 0.4444 - val_loss: 1.3951 - val_acc: 0.5150\n",
      "Epoch 6/20\n",
      "375/375 [==============================] - 71s 190ms/step - loss: 1.5239 - acc: 0.4813 - val_loss: 1.3036 - val_acc: 0.5450\n",
      "Epoch 7/20\n",
      "375/375 [==============================] - 71s 189ms/step - loss: 1.4685 - acc: 0.5063 - val_loss: 1.2893 - val_acc: 0.5530\n",
      "Epoch 8/20\n",
      "375/375 [==============================] - 70s 188ms/step - loss: 1.4323 - acc: 0.5228 - val_loss: 1.2325 - val_acc: 0.5735\n",
      "Epoch 9/20\n",
      "375/375 [==============================] - 70s 186ms/step - loss: 1.3944 - acc: 0.5345 - val_loss: 1.3095 - val_acc: 0.5605\n",
      "Epoch 10/20\n",
      "375/375 [==============================] - 72s 191ms/step - loss: 1.3498 - acc: 0.5563 - val_loss: 1.1294 - val_acc: 0.6340loss: 1.3513 - acc: 0.55\n",
      "Epoch 11/20\n",
      "375/375 [==============================] - 70s 187ms/step - loss: 1.3393 - acc: 0.5589 - val_loss: 1.0966 - val_acc: 0.6390\n",
      "Epoch 12/20\n",
      "375/375 [==============================] - 72s 193ms/step - loss: 1.3104 - acc: 0.5660 - val_loss: 1.2107 - val_acc: 0.5905\n",
      "Epoch 13/20\n",
      "375/375 [==============================] - 73s 194ms/step - loss: 1.2893 - acc: 0.5669 - val_loss: 1.2080 - val_acc: 0.5990\n",
      "Epoch 14/20\n",
      "375/375 [==============================] - 70s 187ms/step - loss: 1.2863 - acc: 0.5708 - val_loss: 1.2371 - val_acc: 0.6120\n",
      "Epoch 15/20\n",
      "375/375 [==============================] - 69s 184ms/step - loss: 1.2757 - acc: 0.5765 - val_loss: 1.1794 - val_acc: 0.6395\n",
      "Epoch 16/20\n",
      "375/375 [==============================] - 70s 186ms/step - loss: 1.2757 - acc: 0.5817 - val_loss: 1.2769 - val_acc: 0.5590\n",
      "Epoch 17/20\n",
      "375/375 [==============================] - 70s 186ms/step - loss: 1.2726 - acc: 0.5845 - val_loss: 1.1541 - val_acc: 0.6220\n",
      "Epoch 18/20\n",
      "375/375 [==============================] - 69s 183ms/step - loss: 1.2774 - acc: 0.5732 - val_loss: 1.1138 - val_acc: 0.6360\n",
      "Epoch 19/20\n",
      "375/375 [==============================] - 68s 182ms/step - loss: 1.2784 - acc: 0.5812 - val_loss: 1.1559 - val_acc: 0.6540\n",
      "Epoch 20/20\n",
      "375/375 [==============================] - 68s 181ms/step - loss: 1.2853 - acc: 0.5844 - val_loss: 1.1842 - val_acc: 0.6040\n"
     ]
    }
   ],
   "source": [
    "# Train the Model\n",
    "history = model.fit_generator(train_generator,\n",
    "                              steps_per_epoch=375,\n",
    "                              epochs=20,\n",
    "                              validation_data=validation_generator,\n",
    "                              validation_steps=100)"
   ]
  },
  {
   "cell_type": "code",
   "execution_count": 7,
   "metadata": {},
   "outputs": [
    {
     "data": {
      "image/png": "[encoded data removed]",
      "text/plain": [
       "<Figure size 432x288 with 1 Axes>"
      ]
     },
     "metadata": {
      "needs_background": "light"
     },
     "output_type": "display_data"
    },
    {
     "data": {
      "image/png": "[encoded data removed]",
      "text/plain": [
       "<Figure size 432x288 with 1 Axes>"
      ]
     },
     "metadata": {
      "needs_background": "light"
     },
     "output_type": "display_data"
    }
   ],
   "source": [
    "# Plot the Training and Validation Accuracy & Loss Scores\n",
    "%matplotlib inline\n",
    "\n",
    "acc = history.history['acc']\n",
    "val_acc = history.history['val_acc']\n",
    "loss = history.history['loss']\n",
    "val_loss = history.history['val_loss']\n",
    "\n",
    "epochs = range(len(acc))\n",
    "\n",
    "plt.plot(epochs, acc, 'bo', label='Training acc')\n",
    "plt.plot(epochs, val_acc, 'b', label='Validation acc')\n",
    "plt.title('Training and validation accuracy')\n",
    "plt.legend()\n",
    "\n",
    "plt.figure()\n",
    "\n",
    "plt.plot(epochs, loss, 'bo', label='Training loss')\n",
    "plt.plot(epochs, val_loss, 'b', label='Validation loss')\n",
    "plt.title('Training and validation loss')\n",
    "plt.legend()\n",
    "\n",
    "plt.show()"
   ]
  },
  {
   "cell_type": "code",
   "execution_count": null,
   "metadata": {},
   "outputs": [],
   "source": [
    "# Save the Model\n",
    "model.save('food_model_1.h5')"
   ]
  },
  {
   "cell_type": "markdown",
   "metadata": {},
   "source": [
    "### Model #2"
   ]
  },
  {
   "cell_type": "code",
   "execution_count": 7,
   "metadata": {},
   "outputs": [
    {
     "name": "stdout",
     "output_type": "stream",
     "text": [
      "WARNING:tensorflow:From D:\\Anaconda3\\lib\\site-packages\\keras\\optimizers.py:790: The name tf.train.Optimizer is deprecated. Please use tf.compat.v1.train.Optimizer instead.\n",
      "\n",
      "WARNING:tensorflow:From D:\\Anaconda3\\lib\\site-packages\\keras\\backend\\tensorflow_backend.py:3295: The name tf.log is deprecated. Please use tf.math.log instead.\n",
      "\n",
      "_________________________________________________________________\n",
      "Layer (type)                 Output Shape              Param #   \n",
      "=================================================================\n",
      "conv2d_5 (Conv2D)            (None, 146, 146, 32)      2432      \n",
      "_________________________________________________________________\n",
      "max_pooling2d_5 (MaxPooling2 (None, 73, 73, 32)        0         \n",
      "_________________________________________________________________\n",
      "conv2d_6 (Conv2D)            (None, 69, 69, 64)        51264     \n",
      "_________________________________________________________________\n",
      "dropout_2 (Dropout)          (None, 69, 69, 64)        0         \n",
      "_________________________________________________________________\n",
      "max_pooling2d_6 (MaxPooling2 (None, 34, 34, 64)        0         \n",
      "_________________________________________________________________\n",
      "conv2d_7 (Conv2D)            (None, 30, 30, 128)       204928    \n",
      "_________________________________________________________________\n",
      "max_pooling2d_7 (MaxPooling2 (None, 15, 15, 128)       0         \n",
      "_________________________________________________________________\n",
      "conv2d_8 (Conv2D)            (None, 11, 11, 128)       409728    \n",
      "_________________________________________________________________\n",
      "max_pooling2d_8 (MaxPooling2 (None, 1, 1, 128)         0         \n",
      "_________________________________________________________________\n",
      "flatten_2 (Flatten)          (None, 128)               0         \n",
      "_________________________________________________________________\n",
      "dense_1 (Dense)              (None, 512)               66048     \n",
      "_________________________________________________________________\n",
      "dropout_3 (Dropout)          (None, 512)               0         \n",
      "_________________________________________________________________\n",
      "dense_2 (Dense)              (None, 10)                5130      \n",
      "=================================================================\n",
      "Total params: 739,530\n",
      "Trainable params: 739,530\n",
      "Non-trainable params: 0\n",
      "_________________________________________________________________\n"
     ]
    }
   ],
   "source": [
    "# Build the Model\n",
    "model = models.Sequential()\n",
    "model.add(layers.Conv2D(32, (5, 5), activation='relu',\n",
    "                        input_shape=(img_size, img_size, 3)))\n",
    "model.add(layers.MaxPooling2D((2, 2)))\n",
    "model.add(layers.Conv2D(64, (5, 5), activation='relu'))\n",
    "model.add(layers.Dropout(0.2))\n",
    "model.add(layers.MaxPooling2D((2, 2)))\n",
    "model.add(layers.Conv2D(128, (5, 5), activation='relu'))\n",
    "model.add(layers.MaxPooling2D((2, 2)))\n",
    "model.add(layers.Conv2D(128, (5, 5), activation='relu'))\n",
    "model.add(layers.MaxPooling2D((7, 7)))\n",
    "model.add(layers.Flatten())\n",
    "model.add(layers.Dense(512, activation='relu', kernel_regularizer=regularizers.l2(0.002)))\n",
    "model.add(layers.Dropout(0.2))\n",
    "model.add(layers.Dense(10, activation='softmax'))\n",
    "\n",
    "model.compile(loss='categorical_crossentropy',\n",
    "              optimizer='rmsprop',\n",
    "              metrics=['acc'])\n",
    "\n",
    "model.summary()"
   ]
  },
  {
   "cell_type": "code",
   "execution_count": 8,
   "metadata": {},
   "outputs": [
    {
     "name": "stdout",
     "output_type": "stream",
     "text": [
      "WARNING:tensorflow:From D:\\Anaconda3\\lib\\site-packages\\tensorflow\\python\\ops\\math_grad.py:1250: add_dispatch_support.<locals>.wrapper (from tensorflow.python.ops.array_ops) is deprecated and will be removed in a future version.\n",
      "Instructions for updating:\n",
      "Use tf.where in 2.0, which has the same broadcast rule as np.where\n",
      "Epoch 1/20\n",
      "375/375 [==============================] - 84s 223ms/step - loss: 2.2222 - acc: 0.2076 - val_loss: 2.0016 - val_acc: 0.3135\n",
      "Epoch 2/20\n",
      "375/375 [==============================] - 40s 105ms/step - loss: 1.8586 - acc: 0.3533 - val_loss: 1.6943 - val_acc: 0.4135\n",
      "Epoch 3/20\n",
      "375/375 [==============================] - 41s 109ms/step - loss: 1.6923 - acc: 0.4219 - val_loss: 1.6626 - val_acc: 0.4510\n",
      "Epoch 4/20\n",
      "375/375 [==============================] - 43s 115ms/step - loss: 1.5626 - acc: 0.4759 - val_loss: 1.6172 - val_acc: 0.4730\n",
      "Epoch 5/20\n",
      "375/375 [==============================] - 40s 106ms/step - loss: 1.4591 - acc: 0.5123 - val_loss: 1.5071 - val_acc: 0.5110\n",
      "Epoch 6/20\n",
      "375/375 [==============================] - 40s 106ms/step - loss: 1.3599 - acc: 0.5532 - val_loss: 1.4477 - val_acc: 0.5445\n",
      "Epoch 7/20\n",
      "375/375 [==============================] - 39s 105ms/step - loss: 1.2673 - acc: 0.5845 - val_loss: 1.3951 - val_acc: 0.5435\n",
      "Epoch 8/20\n",
      "375/375 [==============================] - 41s 108ms/step - loss: 1.1832 - acc: 0.6168 - val_loss: 1.6264 - val_acc: 0.5125\n",
      "Epoch 9/20\n",
      "375/375 [==============================] - 42s 113ms/step - loss: 1.1123 - acc: 0.6425 - val_loss: 1.4430 - val_acc: 0.5510\n",
      "Epoch 10/20\n",
      "375/375 [==============================] - 43s 115ms/step - loss: 1.0233 - acc: 0.6771 - val_loss: 1.5215 - val_acc: 0.5325\n",
      "Epoch 11/20\n",
      "375/375 [==============================] - 40s 106ms/step - loss: 0.9532 - acc: 0.6955 - val_loss: 1.4957 - val_acc: 0.5635\n",
      "Epoch 12/20\n",
      "375/375 [==============================] - 40s 106ms/step - loss: 0.8701 - acc: 0.7337 - val_loss: 1.5113 - val_acc: 0.5695\n",
      "Epoch 13/20\n",
      "375/375 [==============================] - 40s 106ms/step - loss: 0.8006 - acc: 0.7483 - val_loss: 1.6795 - val_acc: 0.5570\n",
      "Epoch 14/20\n",
      "375/375 [==============================] - 40s 106ms/step - loss: 0.7508 - acc: 0.7719 - val_loss: 1.9529 - val_acc: 0.4990\n",
      "Epoch 15/20\n",
      "375/375 [==============================] - 40s 107ms/step - loss: 0.6903 - acc: 0.7964 - val_loss: 1.6819 - val_acc: 0.5500\n",
      "Epoch 16/20\n",
      "375/375 [==============================] - 40s 107ms/step - loss: 0.6512 - acc: 0.8045 - val_loss: 1.7975 - val_acc: 0.5465\n",
      "Epoch 17/20\n",
      "375/375 [==============================] - 40s 108ms/step - loss: 0.6174 - acc: 0.8235 - val_loss: 2.0600 - val_acc: 0.5175\n",
      "Epoch 18/20\n",
      "375/375 [==============================] - 40s 107ms/step - loss: 0.6030 - acc: 0.8309 - val_loss: 1.9418 - val_acc: 0.5395\n",
      "Epoch 19/20\n",
      "375/375 [==============================] - 41s 109ms/step - loss: 0.5898 - acc: 0.8419 - val_loss: 2.1198 - val_acc: 0.5545\n",
      "Epoch 20/20\n",
      "375/375 [==============================] - 41s 110ms/step - loss: 0.5267 - acc: 0.8496 - val_loss: 2.3013 - val_acc: 0.4950\n"
     ]
    }
   ],
   "source": [
    "# Train the Model\n",
    "history = model.fit_generator(train_generator,\n",
    "                              steps_per_epoch=375,\n",
    "                              epochs=20,\n",
    "                              validation_data=validation_generator,\n",
    "                              validation_steps=100)"
   ]
  },
  {
   "cell_type": "code",
   "execution_count": 6,
   "metadata": {},
   "outputs": [
    {
     "data": {
      "image/png": "[encoded data removed]",
      "text/plain": [
       "<Figure size 432x288 with 1 Axes>"
      ]
     },
     "metadata": {
      "needs_background": "light"
     },
     "output_type": "display_data"
    },
    {
     "data": {
      "image/png": "[encoded data removed]",
      "text/plain": [
       "<Figure size 432x288 with 1 Axes>"
      ]
     },
     "metadata": {
      "needs_background": "light"
     },
     "output_type": "display_data"
    }
   ],
   "source": [
    "# Plot the Training and Validation Accuracy & Loss Scores\n",
    "import matplotlib.pyplot as plt\n",
    "%matplotlib inline\n",
    "\n",
    "acc = history.history['acc']\n",
    "val_acc = history.history['val_acc']\n",
    "loss = history.history['loss']\n",
    "val_loss = history.history['val_loss']\n",
    "\n",
    "epochs = range(len(acc))\n",
    "\n",
    "plt.plot(epochs, acc, 'bo', label='Training acc')\n",
    "plt.plot(epochs, val_acc, 'b', label='Validation acc')\n",
    "plt.title('Training and validation accuracy')\n",
    "plt.legend()\n",
    "\n",
    "plt.figure()\n",
    "\n",
    "plt.plot(epochs, loss, 'bo', label='Training loss')\n",
    "plt.plot(epochs, val_loss, 'b', label='Validation loss')\n",
    "plt.title('Training and validation loss')\n",
    "plt.legend()\n",
    "\n",
    "plt.show()"
   ]
  },
  {
   "cell_type": "code",
   "execution_count": null,
   "metadata": {},
   "outputs": [],
   "source": [
    "# Save the Model\n",
    "model.save('food_model_2.h5')"
   ]
  },
  {
   "cell_type": "markdown",
   "metadata": {},
   "source": [
    "## Step 3 – Evaluate the Developed Models using Testing Images"
   ]
  },
  {
   "cell_type": "code",
   "execution_count": null,
   "metadata": {},
   "outputs": [],
   "source": [
    "# Model #1\n",
    "model.load_weights('food_model_1.h5')\n",
    "\n",
    "\n"
   ]
  },
  {
   "cell_type": "code",
   "execution_count": null,
   "metadata": {},
   "outputs": [],
   "source": [
    "# Model #2\n",
    "model.load_weights('food_model_2.h5')\n",
    "\n",
    "\n"
   ]
  },
  {
   "cell_type": "code",
   "execution_count": null,
   "metadata": {},
   "outputs": [],
   "source": [
    "# Save the best model\n",
    "\n",
    "\n",
    "model.save('food_model_best.h5')"
   ]
  },
  {
   "cell_type": "markdown",
   "metadata": {},
   "source": [
    "## Step 4  – Use the best model to make prediction"
   ]
  },
  {
   "cell_type": "code",
   "execution_count": null,
   "metadata": {},
   "outputs": [],
   "source": [
    "# Load the model\n",
    "model.load_weights('food_model_best.h5')"
   ]
  },
  {
   "cell_type": "code",
   "execution_count": null,
   "metadata": {},
   "outputs": [],
   "source": [
    "# Load the food list (in alphabetical order)\n",
    "with open('??.txt', 'r') as f: # the .txt file which contains a list of food assigned to you\n",
    "    x = f.readlines()\n",
    "food_list =[]\n",
    "for item in x:\n",
    "    food_list.append(item.strip('\\n'))\n",
    "food_list = sorted(food_list) # food_list needs to be sorted alphabetically before feed into prediction() function\n",
    "print(food_list)"
   ]
  },
  {
   "cell_type": "code",
   "execution_count": null,
   "metadata": {},
   "outputs": [],
   "source": [
    "# Define some related functions for image process and model prediction\n",
    "from keras.preprocessing.image import load_img, img_to_array\n",
    "def image_process(img):\n",
    "    image = load_img(img, target_size =(img_size, img_size))\n",
    "    image_array = img_to_array(image)/255\n",
    "    return image_array\n",
    "\n",
    "import pandas as pd\n",
    "def prediction(model, img_array, items_l):\n",
    "    prob = model.predict(img_array.reshape(1,img_size,img_size,3))\n",
    "    pro_df = pd.DataFrame(prob, columns = items_l)\n",
    "    result = items_l[np.argmax(prob)]\n",
    "    return pro_df, result"
   ]
  },
  {
   "cell_type": "code",
   "execution_count": null,
   "metadata": {},
   "outputs": [],
   "source": [
    "# Make prediction for the image you downloaded from internet\n",
    "import matplotlib.pyplot as plt\n",
    "img = '??.jpeg' # the picture you downloaded from internet, which contains a type of food in your food list\n",
    "plt.imshow(plt.imread(img))\n",
    "plt.show()\n",
    "\n",
    "img_array = image_process(img)\n",
    "prob_df, result = prediction(model, img_array, food_list)\n",
    "print('The prediction is: ', result, '\\n\\n', prob_df)"
   ]
  }
 ],
 "metadata": {
  "kernelspec": {
   "display_name": "Python 3",
   "language": "python",
   "name": "python3"
  },
  "language_info": {
   "codemirror_mode": {
    "name": "ipython",
    "version": 3
   },
   "file_extension": ".py",
   "mimetype": "text/x-python",
   "name": "python",
   "nbconvert_exporter": "python",
   "pygments_lexer": "ipython3",
   "version": "3.7.3"
  }
 },
 "nbformat": 4,
 "nbformat_minor": 2
}
